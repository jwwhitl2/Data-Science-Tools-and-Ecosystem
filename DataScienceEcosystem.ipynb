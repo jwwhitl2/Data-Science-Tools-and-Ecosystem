{
 "cells": [
  {
   "cell_type": "markdown",
   "id": "c6cf1347-d3c4-4622-ae94-3a5ae580186b",
   "metadata": {},
   "source": [
    "# Data Science Tools and Ecosystem"
   ]
  },
  {
   "cell_type": "markdown",
   "id": "c58f3ed1-e878-412a-b0af-5c4fd480418c",
   "metadata": {
    "tags": []
   },
   "source": [
    "## Author\n",
    "Jonathan Whitley"
   ]
  },
  {
   "cell_type": "markdown",
   "id": "d14a32f3-bfaf-43e7-bf1e-cfd97c4bbcb3",
   "metadata": {},
   "source": [
    "## In this notebook, Data Science Tools and Ecosystem are summarized."
   ]
  },
  {
   "cell_type": "markdown",
   "id": "dee29036-3b80-490e-9a18-015f482d4ccb",
   "metadata": {},
   "source": [
    "## ***Objectives:***\n",
    "* R and RStudio\n",
    "* Github\n",
    "* Python\n",
    "* Jupyter Notebook\n",
    "* Anaconda"
   ]
  },
  {
   "cell_type": "markdown",
   "id": "9a7140b3-6105-4dc8-9bbc-b39a218d023d",
   "metadata": {},
   "source": [
    "### Some of the popular languages that Data Scientists use are:"
   ]
  },
  {
   "cell_type": "markdown",
   "id": "cd48e46c-6511-4e42-b223-3ae79e594258",
   "metadata": {},
   "source": [
    "1. Python\n",
    "2. R\n",
    "3. SQL"
   ]
  },
  {
   "cell_type": "markdown",
   "id": "9710117c-cc4f-4dbd-b5e0-a7d20ad2d2bb",
   "metadata": {},
   "source": [
    "### Some of the commonly used libraries used by Data Scientists include:"
   ]
  },
  {
   "cell_type": "markdown",
   "id": "7ea0c5ab-1a72-42b6-a0fc-8d3548c4b70c",
   "metadata": {},
   "source": [
    "1. NumPy\n",
    "2. Pandas\n",
    "3. Matplotlib"
   ]
  },
  {
   "cell_type": "markdown",
   "id": "1a83c358-14fa-4f14-a0ec-db1defc15a8f",
   "metadata": {},
   "source": [
    "|Data Science Tools|\n",
    "|------------------|\n",
    "|Jupyter Notbook   |\n",
    "|RStudio           |\n",
    "|Eclipse           |\n"
   ]
  },
  {
   "cell_type": "markdown",
   "id": "cab77493-3897-4229-841b-bfdedccac3dc",
   "metadata": {},
   "source": [
    "### Below are a few examples of evaluating arithmetic expressions in Python"
   ]
  },
  {
   "cell_type": "code",
   "execution_count": 5,
   "id": "52d70a96-dd83-4541-9a1f-f1c03e73c1b1",
   "metadata": {
    "tags": []
   },
   "outputs": [
    {
     "data": {
      "text/plain": [
       "17"
      ]
     },
     "execution_count": 5,
     "metadata": {},
     "output_type": "execute_result"
    }
   ],
   "source": [
    "# This a simple arithmetic expression to mutiply then add integers\n",
    "(3*4)+5"
   ]
  },
  {
   "cell_type": "code",
   "execution_count": 6,
   "id": "8fe876eb-7cc5-420b-8bf3-eab814c400b9",
   "metadata": {
    "tags": []
   },
   "outputs": [
    {
     "data": {
      "text/plain": [
       "3.3333333333333335"
      ]
     },
     "execution_count": 6,
     "metadata": {},
     "output_type": "execute_result"
    }
   ],
   "source": [
    "# This will convert 200 minutes to hours by diving by 60\n",
    "200/60"
   ]
  },
  {
   "cell_type": "code",
   "execution_count": null,
   "id": "bfb67adc-b59a-479d-bc8c-4ba574fa3685",
   "metadata": {},
   "outputs": [],
   "source": []
  },
  {
   "cell_type": "code",
   "execution_count": null,
   "id": "9949912b-b2cf-46cd-a321-fb314af116a7",
   "metadata": {},
   "outputs": [],
   "source": []
  },
  {
   "cell_type": "code",
   "execution_count": null,
   "id": "dd0b2576-b8fe-4d5f-8e90-3a6fa7372f74",
   "metadata": {},
   "outputs": [],
   "source": []
  }
 ],
 "metadata": {
  "kernelspec": {
   "display_name": "Python",
   "language": "python",
   "name": "conda-env-python-py"
  },
  "language_info": {
   "codemirror_mode": {
    "name": "ipython",
    "version": 3
   },
   "file_extension": ".py",
   "mimetype": "text/x-python",
   "name": "python",
   "nbconvert_exporter": "python",
   "pygments_lexer": "ipython3",
   "version": "3.7.12"
  }
 },
 "nbformat": 4,
 "nbformat_minor": 5
}
